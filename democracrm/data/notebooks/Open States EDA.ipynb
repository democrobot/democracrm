{
 "cells": [
  {
   "cell_type": "markdown",
   "id": "17d18df0-ca4a-4bd3-8096-d94b177ec329",
   "metadata": {},
   "source": [
    "# OpenStates Legislature Records for Pennsylvania"
   ]
  },
  {
   "cell_type": "code",
   "execution_count": 1,
   "id": "4fc9a0fa-6289-48ea-8c58-b980b1f6433f",
   "metadata": {},
   "outputs": [],
   "source": [
    "import requests\n",
    "import pandas as pd\n",
    "from io import StringIO"
   ]
  },
  {
   "cell_type": "code",
   "execution_count": 2,
   "id": "d399334b-81a2-4b57-add1-9ed8910c51c8",
   "metadata": {},
   "outputs": [],
   "source": [
    "os_pa_people_url = 'https://data.openstates.org/people/current/pa.csv'\n",
    "os_pa_people = requests.get(os_pa_people_url)\n",
    "test = os_pa_people.text"
   ]
  },
  {
   "cell_type": "code",
   "execution_count": 3,
   "id": "746ad3d2-d9df-4dc5-bbbb-ecd70526e77b",
   "metadata": {},
   "outputs": [],
   "source": [
    "records = test.split('\\r\\n')"
   ]
  },
  {
   "cell_type": "code",
   "execution_count": 7,
   "id": "ab60fd01-00da-4d2e-a30d-e698d5a0f4f8",
   "metadata": {},
   "outputs": [],
   "source": [
    "pa = pd.read_csv(StringIO(os_pa_people.text))"
   ]
  },
  {
   "cell_type": "code",
   "execution_count": 8,
   "id": "9ee436df-576f-4dac-a88c-efd156abebe5",
   "metadata": {},
   "outputs": [],
   "source": [
    "pa_senate = pa[pa['current_chamber'] == 'upper']\n",
    "pa_house = pa[pa['current_chamber'] == 'lower']"
   ]
  },
  {
   "cell_type": "code",
   "execution_count": 9,
   "id": "8fd4f0d6-0279-43ff-a056-a04b8fe66bb8",
   "metadata": {},
   "outputs": [
    {
     "name": "stdout",
     "output_type": "stream",
     "text": [
      "50\n",
      "203\n"
     ]
    }
   ],
   "source": [
    "# Verify the totals match 50 seats in Senate and 203 in House\n",
    "print(len(pa_senate))\n",
    "print(len(pa_house))"
   ]
  },
  {
   "cell_type": "code",
   "execution_count": 12,
   "id": "c293c2d2-150f-413c-83d6-39275f83173e",
   "metadata": {},
   "outputs": [
    {
     "data": {
      "text/plain": [
       "Index(['id', 'name', 'current_party', 'current_district', 'current_chamber',\n",
       "       'given_name', 'family_name', 'gender', 'email', 'biography',\n",
       "       'birth_date', 'death_date', 'image', 'links', 'sources',\n",
       "       'capitol_address', 'capitol_voice', 'capitol_fax', 'district_address',\n",
       "       'district_voice', 'district_fax', 'twitter', 'youtube', 'instagram',\n",
       "       'facebook', 'wikidata'],\n",
       "      dtype='object')"
      ]
     },
     "execution_count": 12,
     "metadata": {},
     "output_type": "execute_result"
    }
   ],
   "source": [
    "pa.columns"
   ]
  },
  {
   "cell_type": "markdown",
   "id": "35ef6874-e0ed-4f20-b284-e1baa5231fa4",
   "metadata": {},
   "source": [
    "* Missing leadership details\n",
    "* Missing additional district offices\n",
    "* Missing term history/stats and re-election status\n",
    "* Missing committee assignment(s)\n",
    "* "
   ]
  },
  {
   "cell_type": "code",
   "execution_count": 23,
   "id": "7adc143a-68c8-4f47-8a18-f91bd2be8aa3",
   "metadata": {},
   "outputs": [
    {
     "data": {
      "text/plain": [
       "id                    ocd-person/7b3a6244-335b-4407-957d-b7d6b6ab1d97\n",
       "name                                                 Wayne Langerholc\n",
       "current_party                                              Republican\n",
       "current_district                                                   35\n",
       "current_chamber                                                 upper\n",
       "given_name                                                      Wayne\n",
       "family_name                                                Langerholc\n",
       "gender                                                           Male\n",
       "email                                           wlangerholc@pasen.gov\n",
       "biography                                                         NaN\n",
       "birth_date                                                        NaN\n",
       "death_date                                                        NaN\n",
       "image               https://www.legis.state.pa.us/images/members/2...\n",
       "links               https://www.legis.state.pa.us/cfdocs/legis/hom...\n",
       "sources             https://www.legis.state.pa.us/cfdocs/legis/hom...\n",
       "capitol_address                                                   NaN\n",
       "capitol_voice                                                     NaN\n",
       "capitol_fax                                                       NaN\n",
       "district_address    999 Eisenhower Blvd. Suite E, Johnstown, PA 15904\n",
       "district_voice                                           814-266-2277\n",
       "district_fax                                             814-266-0057\n",
       "twitter                                                 senlangerholc\n",
       "youtube                                                           NaN\n",
       "instagram                                               senlangerholc\n",
       "facebook                                     senatorwaynelangerholcjr\n",
       "wikidata                                                          NaN\n",
       "Name: 250, dtype: object"
      ]
     },
     "execution_count": 23,
     "metadata": {},
     "output_type": "execute_result"
    }
   ],
   "source": [
    "pa_senate.iloc[49]"
   ]
  },
  {
   "cell_type": "code",
   "execution_count": 24,
   "id": "f458002c-ad26-4db1-b920-c7c2b69c1eab",
   "metadata": {},
   "outputs": [
    {
     "data": {
      "text/plain": [
       "['https://www.legis.state.pa.us/cfdocs/legis/home/member_information/senators_alpha.cfm',\n",
       " 'https://www.legis.state.pa.us/cfdocs/legis/home/member_information/Senate_bio.cfm?id=1764',\n",
       " 'https://www.senatorlangerholc.com/',\n",
       " 'https://www.palegis.us/senate/members/bio/1764/sen-langerholc']"
      ]
     },
     "execution_count": 24,
     "metadata": {},
     "output_type": "execute_result"
    }
   ],
   "source": [
    "pa_senate.iloc[49]['links'].split(';')"
   ]
  },
  {
   "cell_type": "code",
   "execution_count": null,
   "id": "7acacc02-d56d-4825-8609-10676c331a90",
   "metadata": {},
   "outputs": [],
   "source": []
  }
 ],
 "metadata": {
  "kernelspec": {
   "display_name": "Python 3 (ipykernel)",
   "language": "python",
   "name": "python3"
  },
  "language_info": {
   "codemirror_mode": {
    "name": "ipython",
    "version": 3
   },
   "file_extension": ".py",
   "mimetype": "text/x-python",
   "name": "python",
   "nbconvert_exporter": "python",
   "pygments_lexer": "ipython3",
   "version": "3.13.0rc2"
  }
 },
 "nbformat": 4,
 "nbformat_minor": 5
}
