{
 "cells": [
  {
   "cell_type": "code",
   "execution_count": 3,
   "id": "1c21cdf5-5a67-41e4-99bb-7f8c495ec3aa",
   "metadata": {},
   "outputs": [],
   "source": [
    "import requests\n",
    "from bs4 import BeautifulSoup as soup"
   ]
  },
  {
   "cell_type": "code",
   "execution_count": 2,
   "id": "569ee834-9099-48cc-9dac-a2a523021000",
   "metadata": {},
   "outputs": [],
   "source": [
    "senate_url = 'https://www.palegis.us/senate/committees/committee-list?SessYr=2023'\n",
    "house_url = 'https://www.palegis.us/house/committees/committee-list?SessYr=2023'"
   ]
  },
  {
   "cell_type": "code",
   "execution_count": 31,
   "id": "34d767a3-75ae-4143-a9d8-4accaf7b5a81",
   "metadata": {},
   "outputs": [],
   "source": [
    "senate_txt = requests.get(senate_url).text\n",
    "senate_html = soup(senate_list_txt, 'lxml')\n",
    "house_txt = requests.get(house_url).text\n",
    "house = soup(house_list_txt, 'lxml')"
   ]
  },
  {
   "cell_type": "code",
   "execution_count": 24,
   "id": "0ac15da5-145e-460a-aec3-1c47f4598fa3",
   "metadata": {
    "scrolled": true
   },
   "outputs": [
    {
     "name": "stdout",
     "output_type": "stream",
     "text": [
      "['Aging & Youth'] ['Sen. Judy Ward']\n",
      "['Agriculture & Rural Affairs'] ['Sen. Elder Vogel']\n",
      "['Appropriations'] ['Sen. Scott Martin']\n",
      "['Banking & Insurance'] ['Sen. John DiSanto']\n",
      "['Communications & Technology'] ['Sen. Tracy Pennycuick']\n",
      "['Community, Economic & Recreational Development'] ['Sen. Chris Gebhard']\n",
      "['Consumer Protection & Professional Licensure'] ['Sen. Patrick Stefano']\n",
      "['Education'] ['Sen. David Argall']\n",
      "['Environmental Resources & Energy'] ['Sen. Gene Yaw']\n",
      "['Finance'] ['Sen. Scott Hutchinson']\n",
      "['Game & Fisheries'] ['Sen. Greg Rothman']\n",
      "['Health & Human Services'] ['Sen. Michele Brooks']\n",
      "['Intergovernmental Operations'] ['Sen. Jarrett Coleman']\n",
      "['Judiciary'] ['Sen. Lisa Baker']\n",
      "['Labor & Industry'] ['Sen. Devlin Robinson']\n",
      "['Law & Justice'] ['Sen. Mike Regan']\n",
      "['Local Government'] ['Sen. Rosemary Brown']\n",
      "['Rules & Executive Nominations'] ['Sen. Joe Pittman']\n",
      "['State Government'] ['Sen. Cris Dush']\n",
      "['Transportation'] ['Sen. Wayne Langerholc']\n",
      "['Urban Affairs & Housing'] ['Sen. Frank Farry']\n",
      "['Veterans Affairs & Emergency Preparedness'] ['Sen. Doug Mastriano']\n"
     ]
    }
   ],
   "source": [
    "senate_committees = (senate_html.find_all('div', class_='row rounded py-3'))\n",
    "for committee in senate_committees:\n",
    "    links = committee.find_all('a')\n",
    "    print(links[0].contents, links[2].contents)"
   ]
  },
  {
   "cell_type": "code",
   "execution_count": 34,
   "id": "a51f378e-7337-4d67-b256-9479ab5dc630",
   "metadata": {},
   "outputs": [
    {
     "name": "stdout",
     "output_type": "stream",
     "text": [
      "['Aging & Older Adult Services'] ['Rep. Maureen Madden']\n",
      "['Agriculture & Rural Affairs'] ['Rep. Eddie Pashinski']\n",
      "['Appropriations'] ['Rep. Jordan Harris']\n",
      "['Children & Youth'] ['Rep. Jeanne McNeill']\n",
      "['Commerce'] ['Rep. Scott Conklin']\n",
      "['Committee On Committees'] ['Rep. Carol Hill-Evans']\n",
      "['Consumer Protection, Technology & Utilities'] ['Rep. Robert Matzie']\n",
      "['Education'] ['Rep. Peter Schweyer']\n",
      "['Environmental Resources & Energy'] ['Rep. Greg Vitali']\n",
      "['Ethics Committee'] ['Rep. Peter Schweyer']\n",
      "['Finance'] ['Rep. Steve Samuelson']\n",
      "['Game & Fisheries'] ['Rep. Anita Kulik']\n",
      "['Gaming Oversight'] ['Rep. Patrick Harkins']\n",
      "['Government Oversight'] ['Rep. Morgan Cephas']\n",
      "['Health'] ['Rep. Dan Frankel']\n",
      "['Housing & Community Development'] ['Rep. P. Sturla']\n",
      "['Human Services'] ['Rep. Perry Warren']\n",
      "['Insurance'] ['Rep. Patty Kim']\n",
      "['Judiciary'] ['Rep. Tim Briggs']\n",
      "['Labor & Industry'] ['Rep. Jason Dawkins']\n",
      "['Liquor Control'] ['Rep. Daniel Deasy']\n",
      "['Local Government'] ['Rep. Robert Freeman']\n",
      "['Professional Licensure'] ['Rep. Frank Burns']\n",
      "['Rules'] ['Rep. Matthew Bradford']\n",
      "['State Government'] ['Rep. Carol Hill-Evans']\n",
      "['The Committee To Provide Justice To Otherwise Barred Victims Of Childhood Sexual Abuse'] ['Rep. Tim Briggs']\n",
      "['Tourism & Economic & Recreational Development'] ['Rep. Mary Jo Daley']\n",
      "['Transportation'] ['Rep. Ed Neilson']\n",
      "['Veterans Affairs & Emergency Preparedness'] ['Rep. Jared Solomon']\n"
     ]
    }
   ],
   "source": [
    "house_committees = (house.find_all('div', class_='row rounded py-3'))\n",
    "for committee in house_committees:\n",
    "    links = committee.find_all('a')\n",
    "    print(links[0].contents, links[2].contents)"
   ]
  },
  {
   "cell_type": "code",
   "execution_count": null,
   "id": "92271c0a-54f4-4271-b5cc-d2abbafbcbbc",
   "metadata": {},
   "outputs": [],
   "source": []
  }
 ],
 "metadata": {
  "kernelspec": {
   "display_name": "Python 3 (ipykernel)",
   "language": "python",
   "name": "python3"
  },
  "language_info": {
   "codemirror_mode": {
    "name": "ipython",
    "version": 3
   },
   "file_extension": ".py",
   "mimetype": "text/x-python",
   "name": "python",
   "nbconvert_exporter": "python",
   "pygments_lexer": "ipython3",
   "version": "3.13.0rc2"
  }
 },
 "nbformat": 4,
 "nbformat_minor": 5
}
